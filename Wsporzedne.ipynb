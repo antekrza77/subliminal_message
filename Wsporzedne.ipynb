{
 "cells": [
  {
   "cell_type": "code",
   "execution_count": null,
   "id": "960fe072",
   "metadata": {},
   "outputs": [],
   "source": [
    "from tkinter import *\n",
    "from tkinter.filedialog import askopenfilename\n",
    "from PIL import Image, ImageTk\n",
    "\n",
    "if __name__ == \"__main__\":\n",
    "    root = Tk()\n",
    "\n",
    "    #setting up a tkinter canvas with scrollbars\n",
    "    frame = Frame(root, bd=2, relief=SUNKEN)\n",
    "    frame.grid_rowconfigure(0, weight=1)\n",
    "    frame.grid_columnconfigure(0, weight=1)\n",
    "    xscroll = Scrollbar(frame, orient=HORIZONTAL)\n",
    "    xscroll.grid(row=1, column=0, sticky=E+W)\n",
    "    yscroll = Scrollbar(frame)\n",
    "    yscroll.grid(row=0, column=1, sticky=N+S)\n",
    "    canvas = Canvas(frame, bd=0, xscrollcommand=xscroll.set, yscrollcommand=yscroll.set)\n",
    "    canvas.grid(row=0, column=0, sticky=N+S+E+W)\n",
    "    xscroll.config(command=canvas.xview)\n",
    "    yscroll.config(command=canvas.yview)\n",
    "    frame.pack(fill=BOTH,expand=1)\n",
    "\n",
    "    #adding the image\n",
    "    File = askopenfilename(parent=root, initialdir=\"C:/\",title='Choose an image.')\n",
    "    img = ImageTk.PhotoImage(Image.open(File))\n",
    "    canvas.create_image(0,0,image=img,anchor=\"nw\")\n",
    "    canvas.config(scrollregion=canvas.bbox(ALL))\n",
    "\n",
    "    #function to be called when mouse is clicked\n",
    "    def printcoords(event):\n",
    "        #outputting x and y coords to console\n",
    "        print (event.x, event.y)\n",
    "    #mouseclick event\n",
    "    canvas.bind(\"<Button 1>\",printcoords)\n",
    "\n",
    "    root.mainloop()"
   ]
  },
  {
   "cell_type": "code",
   "execution_count": null,
   "id": "14ade283",
   "metadata": {},
   "outputs": [],
   "source": []
  }
 ],
 "metadata": {
  "kernelspec": {
   "display_name": "Python 3 (ipykernel)",
   "language": "python",
   "name": "python3"
  },
  "language_info": {
   "codemirror_mode": {
    "name": "ipython",
    "version": 3
   },
   "file_extension": ".py",
   "mimetype": "text/x-python",
   "name": "python",
   "nbconvert_exporter": "python",
   "pygments_lexer": "ipython3",
   "version": "3.9.7"
  }
 },
 "nbformat": 4,
 "nbformat_minor": 5
}
